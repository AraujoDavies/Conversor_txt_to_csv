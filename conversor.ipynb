{
 "cells": [
  {
   "cell_type": "code",
   "execution_count": null,
   "metadata": {},
   "outputs": [],
   "source": [
    "import pandas as pd\n",
    "import numpy as np\n",
    "\n",
    "# Funcionou com txt de 1.500.000 linhas\n",
    "comb2 = np.loadtxt(fname = 'exemplo.txt', dtype = str) \n",
    "\n",
    "comb2"
   ]
  },
  {
   "cell_type": "code",
   "execution_count": null,
   "metadata": {},
   "outputs": [],
   "source": [
    "len(comb2) % 2"
   ]
  },
  {
   "cell_type": "code",
   "execution_count": null,
   "metadata": {},
   "outputs": [],
   "source": [
    "# unificando listas\n",
    "new_comb = []\n",
    "for c in comb2:\n",
    "    separator = ' '\n",
    "    result = [separator.join(c)]\n",
    "    new_comb.append(result)\n",
    "new_comb"
   ]
  },
  {
   "cell_type": "code",
   "execution_count": null,
   "metadata": {},
   "outputs": [],
   "source": [
    "dados = pd.Series(new_comb)\n",
    "\n",
    "dados.head()"
   ]
  },
  {
   "cell_type": "code",
   "execution_count": null,
   "metadata": {},
   "outputs": [],
   "source": [
    "parte1 = []\n",
    "parte2 = []\n",
    "for index, dado in enumerate(dados):\n",
    "    # print(dado[0])\n",
    "    if index % 2 == 0:\n",
    "        parte2.append(dado[0])\n",
    "    else:\n",
    "        parte1.append(dado[0])\n",
    "    if index == 11: #limitação p ajudar\n",
    "       break\n",
    "\n",
    "dados_organizados = {'Parte1': parte1, 'Parte2': parte2}"
   ]
  },
  {
   "cell_type": "code",
   "execution_count": null,
   "metadata": {},
   "outputs": [],
   "source": [
    "dados_organizados"
   ]
  },
  {
   "cell_type": "code",
   "execution_count": null,
   "metadata": {},
   "outputs": [],
   "source": [
    "df = pd.DataFrame(dados_organizados)\n",
    "print(df)"
   ]
  },
  {
   "cell_type": "code",
   "execution_count": null,
   "metadata": {},
   "outputs": [],
   "source": [
    "df.to_csv('./metade2.csv', sep=';', index=False, encoding='utf-8-sig')"
   ]
  }
 ],
 "metadata": {
  "kernelspec": {
   "display_name": "Python 3.8.2 ('venv': venv)",
   "language": "python",
   "name": "python3"
  },
  "language_info": {
   "codemirror_mode": {
    "name": "ipython",
    "version": 3
   },
   "file_extension": ".py",
   "mimetype": "text/x-python",
   "name": "python",
   "nbconvert_exporter": "python",
   "pygments_lexer": "ipython3",
   "version": "3.8.2"
  },
  "orig_nbformat": 4,
  "vscode": {
   "interpreter": {
    "hash": "e77a1e5d75b0900b4692f55d4bf46c469d3da7deb20f00ed3586d1e047ea363c"
   }
  }
 },
 "nbformat": 4,
 "nbformat_minor": 2
}
